{
  "nbformat": 4,
  "nbformat_minor": 0,
  "metadata": {
    "colab": {
      "provenance": [],
      "authorship_tag": "ABX9TyPVG7HYJ6i5OMDMfal7Jwe+"
    },
    "kernelspec": {
      "name": "python3",
      "display_name": "Python 3"
    },
    "language_info": {
      "name": "python"
    }
  },
  "cells": [
    {
      "cell_type": "markdown",
      "source": [
        "Connect Github repository as a drive"
      ],
      "metadata": {
        "id": "Dbrd4EvlLFtf"
      }
    },
    {
      "cell_type": "code",
      "source": [
        "!git clone https://github.com/aelukin/WT_data_analysis.git"
      ],
      "metadata": {
        "colab": {
          "base_uri": "https://localhost:8080/"
        },
        "id": "n87N9STwKsqm",
        "outputId": "d1f36d3a-36f6-4bde-be25-bfabf36706b9"
      },
      "execution_count": null,
      "outputs": [
        {
          "output_type": "stream",
          "name": "stdout",
          "text": [
            "Cloning into 'WT_data_analysis'...\n",
            "remote: Enumerating objects: 13, done.\u001b[K\n",
            "remote: Counting objects: 100% (13/13), done.\u001b[K\n",
            "remote: Compressing objects: 100% (11/11), done.\u001b[K\n",
            "remote: Total 13 (delta 2), reused 0 (delta 0), pack-reused 0\u001b[K\n",
            "Unpacking objects: 100% (13/13), 1.50 MiB | 7.29 MiB/s, done.\n"
          ]
        }
      ]
    },
    {
      "cell_type": "markdown",
      "source": [
        "Connect *numpy* and *pandas*"
      ],
      "metadata": {
        "id": "U_qBua9ALqh9"
      }
    },
    {
      "cell_type": "code",
      "source": [
        "import numpy as np\n",
        "import pandas as pd"
      ],
      "metadata": {
        "id": "_RgzT_t3Lj4l"
      },
      "execution_count": null,
      "outputs": []
    },
    {
      "cell_type": "markdown",
      "source": [
        "Change directory and read the header from the dataset"
      ],
      "metadata": {
        "id": "xlMW-LGZMBnd"
      }
    },
    {
      "cell_type": "code",
      "source": [
        "%cd /content/WT_data_analysis\n",
        "data = pd.read_csv('SCADA_wt.csv')"
      ],
      "metadata": {
        "colab": {
          "base_uri": "https://localhost:8080/"
        },
        "id": "f-FR-LdWMDwF",
        "outputId": "86a1632e-cc06-4da3-9d47-5622f26d2db5"
      },
      "execution_count": 12,
      "outputs": [
        {
          "output_type": "stream",
          "name": "stdout",
          "text": [
            "/content/WT_data_analysis\n"
          ]
        }
      ]
    },
    {
      "cell_type": "markdown",
      "source": [
        "Explore the dataset"
      ],
      "metadata": {
        "id": "vzwfVibiNonF"
      }
    },
    {
      "cell_type": "code",
      "source": [
        "data.head()"
      ],
      "metadata": {
        "id": "mpjErKBDOPCz",
        "outputId": "5b3704d5-3c3d-4b5e-c888-2488d6818509",
        "colab": {
          "base_uri": "https://localhost:8080/",
          "height": 206
        }
      },
      "execution_count": 14,
      "outputs": [
        {
          "output_type": "execute_result",
          "data": {
            "text/plain": [
              "          Date/Time  LV ActivePower (kW)  Wind Speed (m/s)  \\\n",
              "0  01 01 2018 00:00           380.047791          5.311336   \n",
              "1  01 01 2018 00:10           453.769196          5.672167   \n",
              "2  01 01 2018 00:20           306.376587          5.216037   \n",
              "3  01 01 2018 00:30           419.645905          5.659674   \n",
              "4  01 01 2018 00:40           380.650696          5.577941   \n",
              "\n",
              "   Theoretical_Power_Curve (KWh)  Wind Direction (°)  \n",
              "0                     416.328908          259.994904  \n",
              "1                     519.917511          268.641113  \n",
              "2                     390.900016          272.564789  \n",
              "3                     516.127569          271.258087  \n",
              "4                     491.702972          265.674286  "
            ],
            "text/html": [
              "\n",
              "  <div id=\"df-f59e2c97-991a-4dfb-a549-475c2f7631b6\">\n",
              "    <div class=\"colab-df-container\">\n",
              "      <div>\n",
              "<style scoped>\n",
              "    .dataframe tbody tr th:only-of-type {\n",
              "        vertical-align: middle;\n",
              "    }\n",
              "\n",
              "    .dataframe tbody tr th {\n",
              "        vertical-align: top;\n",
              "    }\n",
              "\n",
              "    .dataframe thead th {\n",
              "        text-align: right;\n",
              "    }\n",
              "</style>\n",
              "<table border=\"1\" class=\"dataframe\">\n",
              "  <thead>\n",
              "    <tr style=\"text-align: right;\">\n",
              "      <th></th>\n",
              "      <th>Date/Time</th>\n",
              "      <th>LV ActivePower (kW)</th>\n",
              "      <th>Wind Speed (m/s)</th>\n",
              "      <th>Theoretical_Power_Curve (KWh)</th>\n",
              "      <th>Wind Direction (°)</th>\n",
              "    </tr>\n",
              "  </thead>\n",
              "  <tbody>\n",
              "    <tr>\n",
              "      <th>0</th>\n",
              "      <td>01 01 2018 00:00</td>\n",
              "      <td>380.047791</td>\n",
              "      <td>5.311336</td>\n",
              "      <td>416.328908</td>\n",
              "      <td>259.994904</td>\n",
              "    </tr>\n",
              "    <tr>\n",
              "      <th>1</th>\n",
              "      <td>01 01 2018 00:10</td>\n",
              "      <td>453.769196</td>\n",
              "      <td>5.672167</td>\n",
              "      <td>519.917511</td>\n",
              "      <td>268.641113</td>\n",
              "    </tr>\n",
              "    <tr>\n",
              "      <th>2</th>\n",
              "      <td>01 01 2018 00:20</td>\n",
              "      <td>306.376587</td>\n",
              "      <td>5.216037</td>\n",
              "      <td>390.900016</td>\n",
              "      <td>272.564789</td>\n",
              "    </tr>\n",
              "    <tr>\n",
              "      <th>3</th>\n",
              "      <td>01 01 2018 00:30</td>\n",
              "      <td>419.645905</td>\n",
              "      <td>5.659674</td>\n",
              "      <td>516.127569</td>\n",
              "      <td>271.258087</td>\n",
              "    </tr>\n",
              "    <tr>\n",
              "      <th>4</th>\n",
              "      <td>01 01 2018 00:40</td>\n",
              "      <td>380.650696</td>\n",
              "      <td>5.577941</td>\n",
              "      <td>491.702972</td>\n",
              "      <td>265.674286</td>\n",
              "    </tr>\n",
              "  </tbody>\n",
              "</table>\n",
              "</div>\n",
              "      <button class=\"colab-df-convert\" onclick=\"convertToInteractive('df-f59e2c97-991a-4dfb-a549-475c2f7631b6')\"\n",
              "              title=\"Convert this dataframe to an interactive table.\"\n",
              "              style=\"display:none;\">\n",
              "        \n",
              "  <svg xmlns=\"http://www.w3.org/2000/svg\" height=\"24px\"viewBox=\"0 0 24 24\"\n",
              "       width=\"24px\">\n",
              "    <path d=\"M0 0h24v24H0V0z\" fill=\"none\"/>\n",
              "    <path d=\"M18.56 5.44l.94 2.06.94-2.06 2.06-.94-2.06-.94-.94-2.06-.94 2.06-2.06.94zm-11 1L8.5 8.5l.94-2.06 2.06-.94-2.06-.94L8.5 2.5l-.94 2.06-2.06.94zm10 10l.94 2.06.94-2.06 2.06-.94-2.06-.94-.94-2.06-.94 2.06-2.06.94z\"/><path d=\"M17.41 7.96l-1.37-1.37c-.4-.4-.92-.59-1.43-.59-.52 0-1.04.2-1.43.59L10.3 9.45l-7.72 7.72c-.78.78-.78 2.05 0 2.83L4 21.41c.39.39.9.59 1.41.59.51 0 1.02-.2 1.41-.59l7.78-7.78 2.81-2.81c.8-.78.8-2.07 0-2.86zM5.41 20L4 18.59l7.72-7.72 1.47 1.35L5.41 20z\"/>\n",
              "  </svg>\n",
              "      </button>\n",
              "      \n",
              "  <style>\n",
              "    .colab-df-container {\n",
              "      display:flex;\n",
              "      flex-wrap:wrap;\n",
              "      gap: 12px;\n",
              "    }\n",
              "\n",
              "    .colab-df-convert {\n",
              "      background-color: #E8F0FE;\n",
              "      border: none;\n",
              "      border-radius: 50%;\n",
              "      cursor: pointer;\n",
              "      display: none;\n",
              "      fill: #1967D2;\n",
              "      height: 32px;\n",
              "      padding: 0 0 0 0;\n",
              "      width: 32px;\n",
              "    }\n",
              "\n",
              "    .colab-df-convert:hover {\n",
              "      background-color: #E2EBFA;\n",
              "      box-shadow: 0px 1px 2px rgba(60, 64, 67, 0.3), 0px 1px 3px 1px rgba(60, 64, 67, 0.15);\n",
              "      fill: #174EA6;\n",
              "    }\n",
              "\n",
              "    [theme=dark] .colab-df-convert {\n",
              "      background-color: #3B4455;\n",
              "      fill: #D2E3FC;\n",
              "    }\n",
              "\n",
              "    [theme=dark] .colab-df-convert:hover {\n",
              "      background-color: #434B5C;\n",
              "      box-shadow: 0px 1px 3px 1px rgba(0, 0, 0, 0.15);\n",
              "      filter: drop-shadow(0px 1px 2px rgba(0, 0, 0, 0.3));\n",
              "      fill: #FFFFFF;\n",
              "    }\n",
              "  </style>\n",
              "\n",
              "      <script>\n",
              "        const buttonEl =\n",
              "          document.querySelector('#df-f59e2c97-991a-4dfb-a549-475c2f7631b6 button.colab-df-convert');\n",
              "        buttonEl.style.display =\n",
              "          google.colab.kernel.accessAllowed ? 'block' : 'none';\n",
              "\n",
              "        async function convertToInteractive(key) {\n",
              "          const element = document.querySelector('#df-f59e2c97-991a-4dfb-a549-475c2f7631b6');\n",
              "          const dataTable =\n",
              "            await google.colab.kernel.invokeFunction('convertToInteractive',\n",
              "                                                     [key], {});\n",
              "          if (!dataTable) return;\n",
              "\n",
              "          const docLinkHtml = 'Like what you see? Visit the ' +\n",
              "            '<a target=\"_blank\" href=https://colab.research.google.com/notebooks/data_table.ipynb>data table notebook</a>'\n",
              "            + ' to learn more about interactive tables.';\n",
              "          element.innerHTML = '';\n",
              "          dataTable['output_type'] = 'display_data';\n",
              "          await google.colab.output.renderOutput(dataTable, element);\n",
              "          const docLink = document.createElement('div');\n",
              "          docLink.innerHTML = docLinkHtml;\n",
              "          element.appendChild(docLink);\n",
              "        }\n",
              "      </script>\n",
              "    </div>\n",
              "  </div>\n",
              "  "
            ]
          },
          "metadata": {},
          "execution_count": 14
        }
      ]
    },
    {
      "cell_type": "code",
      "source": [
        "data.columns"
      ],
      "metadata": {
        "id": "qx_cge_4NtIj",
        "outputId": "f91368e1-01aa-4a18-98a3-769606f51a76",
        "colab": {
          "base_uri": "https://localhost:8080/"
        }
      },
      "execution_count": 13,
      "outputs": [
        {
          "output_type": "execute_result",
          "data": {
            "text/plain": [
              "Index(['Date/Time', 'LV ActivePower (kW)', 'Wind Speed (m/s)',\n",
              "       'Theoretical_Power_Curve (KWh)', 'Wind Direction (°)'],\n",
              "      dtype='object')"
            ]
          },
          "metadata": {},
          "execution_count": 13
        }
      ]
    },
    {
      "cell_type": "code",
      "source": [
        "data.shape"
      ],
      "metadata": {
        "id": "9GlAhKTNOW_k",
        "outputId": "665703d0-6530-42e7-8283-e5c875a0c42f",
        "colab": {
          "base_uri": "https://localhost:8080/"
        }
      },
      "execution_count": 15,
      "outputs": [
        {
          "output_type": "execute_result",
          "data": {
            "text/plain": [
              "(50530, 5)"
            ]
          },
          "metadata": {},
          "execution_count": 15
        }
      ]
    },
    {
      "cell_type": "code",
      "source": [
        "data.dtypes"
      ],
      "metadata": {
        "id": "c4mN7uN8OcZz",
        "outputId": "78573607-449b-47cb-b328-6143a96c8dc3",
        "colab": {
          "base_uri": "https://localhost:8080/"
        }
      },
      "execution_count": 16,
      "outputs": [
        {
          "output_type": "execute_result",
          "data": {
            "text/plain": [
              "Date/Time                         object\n",
              "LV ActivePower (kW)              float64\n",
              "Wind Speed (m/s)                 float64\n",
              "Theoretical_Power_Curve (KWh)    float64\n",
              "Wind Direction (°)               float64\n",
              "dtype: object"
            ]
          },
          "metadata": {},
          "execution_count": 16
        }
      ]
    },
    {
      "cell_type": "code",
      "source": [
        "data.isna().sum()"
      ],
      "metadata": {
        "id": "uXozrjNLOlNz",
        "outputId": "b2a17a02-5f49-4c7d-89ef-c473ff3d6b7b",
        "colab": {
          "base_uri": "https://localhost:8080/"
        }
      },
      "execution_count": 17,
      "outputs": [
        {
          "output_type": "execute_result",
          "data": {
            "text/plain": [
              "Date/Time                        0\n",
              "LV ActivePower (kW)              0\n",
              "Wind Speed (m/s)                 0\n",
              "Theoretical_Power_Curve (KWh)    0\n",
              "Wind Direction (°)               0\n",
              "dtype: int64"
            ]
          },
          "metadata": {},
          "execution_count": 17
        }
      ]
    }
  ]
}